{
 "cells": [
  {
   "cell_type": "markdown",
   "metadata": {},
   "source": [
    "# DINEOF results\n",
    "\n",
    "In this script we are going to visualise the results of the DINEOF reconstruction"
   ]
  },
  {
   "cell_type": "code",
   "execution_count": null,
   "metadata": {},
   "outputs": [],
   "source": [
    "using NCDatasets\n",
    "using PyPlot\n",
    "using Missings\n",
    "using Dates\n",
    "using Statistics\n",
    "include(\"dineof_scripts.jl\")"
   ]
  },
  {
   "cell_type": "code",
   "execution_count": null,
   "metadata": {},
   "outputs": [],
   "source": [
    "#read the initial (cloudy) data, land-sea mask, time, latitude and longitude\n",
    "ds = Dataset(\"sst_L3_Adriatic.nc\");\n",
    "tmp = ds[\"SST\"][:];\n",
    "sst  = nomissing(tmp,NaN);\n",
    "\n",
    "\n",
    "mask = nomissing(ds[\"mask\"][:]);\n",
    "\n",
    "time = nomissing(ds[\"time\"][:]);\n",
    "lat = nomissing(ds[\"lat\"][:]);\n",
    "lon = nomissing(ds[\"lon\"][:]);\n",
    "close(ds)\n",
    "\n",
    "#read the reconstructed file\n",
    "ds = Dataset(\"sst_L4_dineof_Adriatic.nc\");\n",
    "tmp = ds[\"sst_filled\"][:];\n",
    "sstf  = nomissing(tmp,NaN);\n",
    "close(ds)\n",
    "@show size(sst);\n",
    "sstf[sstf.==9999].=NaN;"
   ]
  },
  {
   "cell_type": "code",
   "execution_count": null,
   "metadata": {},
   "outputs": [],
   "source": [
    "#Change the variable time to the date \n",
    "mydate = Date(2017,1,1) .+ Dates.Day.(time);\n",
    "extrema(lat)"
   ]
  },
  {
   "cell_type": "code",
   "execution_count": null,
   "metadata": {
    "scrolled": true
   },
   "outputs": [],
   "source": [
    "#Plot initial data and reconstruction side-by-side to compare\n",
    "#set index i to one of the time steps of the data matrices (multiple plots)\n",
    "#i=14\n",
    "ca = (11,17)\n",
    "for i = 30\n",
    "    figure()\n",
    "subplot(2,2,1)\n",
    "contourf(lon,lat,mask',levels = [0., 0.5],colors =[[.5,.5,.5]])\n",
    "pcolor(lon,lat,sst[:,:,i]',cmap=\"RdYlBu_r\"),clim(ca),colorbar(orientation=\"horizontal\")\n",
    "#title(DateTime(2017,1,1) + Dates.Millisecond(time[i] * 1000*24*60*60))\n",
    "title(mydate[i])\n",
    "\n",
    "ylim(39,46)\n",
    "aspect_ratio=1/cos(pi*mean(lat)/180);\n",
    "gca().set_aspect(aspect_ratio);\n",
    "\n",
    "subplot(2,2,2)\n",
    "pcolor(lon,lat,sstf[:,:,i]',cmap=\"RdYlBu_r\"),clim(ca),colorbar(orientation=\"horizontal\")\n",
    "contourf(lon,lat,mask',levels = [0., 0.5],colors =[[.5,.5,.5]]);\n",
    "ylim(39,46)\n",
    "aspect_ratio=1/cos(pi*mean(lat)/180);\n",
    "gca().set_aspect(aspect_ratio);\n",
    "title(\"DINEOF analysis\")\n",
    "end"
   ]
  },
  {
   "cell_type": "code",
   "execution_count": null,
   "metadata": {},
   "outputs": [],
   "source": [
    "# Histogram of SST data (we aim at a similar distribution in the initial and reconstructed datasets, \n",
    "# but with a larger sample size in the reconstructed one).\n",
    "\n",
    "hist(sstf[:],50,label= \"DINEOF\");\n",
    "hist(sst[:],50,label=\"Initial data\");\n",
    "ylabel(\"Number of data\")\n",
    "xlabel(\"℃\")\n",
    "legend();"
   ]
  },
  {
   "cell_type": "code",
   "execution_count": null,
   "metadata": {},
   "outputs": [],
   "source": [
    "# Difference between the whole domain average value for each dataset\n",
    "# Initial data are noisier because the average is done over less data, \n",
    "# normally heterogeneously distributed\n",
    "\n",
    "sst1 = nanmean(sstf,1);\n",
    "sst2 = nanmean(sst1,2);\n",
    "\n",
    "sst1i = nanmean(sst,1);\n",
    "sst2i = nanmean(sst1i,2);\n",
    "\n",
    "#sst2 = squeeze(sst2);\n",
    "@show size(sst2)\n",
    "plot(mydate,sst2i[:],color=\"r\",label=\"Initial data\");\n",
    "plot(mydate,sst2[:],label=\"DINEOF\");\n",
    "xlabel(\"year day\");\n",
    "ylabel(\"℃     \",rotation=0);\n",
    "legend();"
   ]
  },
  {
   "cell_type": "code",
   "execution_count": null,
   "metadata": {
    "scrolled": true
   },
   "outputs": [],
   "source": [
    "#Another example of reconstructed data\n",
    "for i = 90\n",
    "    figure()\n",
    "pcolor(lon,lat,sst[:,:,i]',cmap=\"RdYlBu_r\"),ColorMap(gray);clim(19,27);colorbar() #clim(21,27);\n",
    "contourf(lon,lat,copy(mask'),levels = [0., 0.5],colors =[[.5,.5,.5]]);\n",
    "ylim(39,46)\n",
    "    title(\"$i\")\n",
    "aspect_ratio=1/cos(pi*mean(lat)/180);\n",
    "gca().set_aspect(aspect_ratio);\n",
    "      \n",
    "    figure()\n",
    "pcolor(lon,lat,sstf[:,:,i]',cmap=\"RdYlBu_r\"),ColorMap(gray);clim(19,27);colorbar() #clim(21,27);\n",
    "contourf(lon,lat,copy(mask'),levels = [0., 0.5],colors =[[.5,.5,.5]]);\n",
    "ylim(39,46)\n",
    "    title(\"$i\")\n",
    "aspect_ratio=1/cos(pi*mean(lat)/180);\n",
    "gca().set_aspect(aspect_ratio);\n",
    "    \n",
    "    \n",
    "end"
   ]
  },
  {
   "cell_type": "markdown",
   "metadata": {
    "collapsed": true
   },
   "source": [
    "Let's look now at the EOF modes that have been used to reconstruct these data"
   ]
  },
  {
   "cell_type": "code",
   "execution_count": null,
   "metadata": {},
   "outputs": [],
   "source": [
    "#First the Spatial and temporal EOF modes and the singular values X = USV'\n",
    "\n",
    "ds = Dataset(\"eof.nc\");\n",
    "tmp = ds[\"Usst\"][:];\n",
    "Usst  = nomissing(tmp,NaN);\n",
    "Usst[Usst.==9999].=NaN;\n",
    "\n",
    "tmp = ds[\"V\"][:];\n",
    "V  = nomissing(tmp,NaN);\n",
    "\n",
    "tmp = ds[\"Sigma\"][:];\n",
    "Sigma  = nomissing(tmp,NaN);\n",
    "\n",
    "@show size(Usst)\n",
    "@show size(V)\n",
    "@show size(Sigma);"
   ]
  },
  {
   "cell_type": "code",
   "execution_count": null,
   "metadata": {},
   "outputs": [],
   "source": [
    "#We can also read how mush of the total variability each mode explains\n",
    "ds = Dataset(\"DINEOF_diagnostics.nc\");\n",
    "tmp = ds[\"varEx\"][:];\n",
    "varEx  = nomissing(tmp,NaN);\n",
    "varEx"
   ]
  },
  {
   "cell_type": "code",
   "execution_count": null,
   "metadata": {},
   "outputs": [],
   "source": [
    "# The spatial EOFs (Usst) have the size of the initial data (in space) times the number of modes retained for validation\n",
    "# The temporal EOFs size is the temporal dimension times the number of retained EOFs\n",
    "# The singular values have the size of the retained EOFs"
   ]
  },
  {
   "cell_type": "code",
   "execution_count": null,
   "metadata": {},
   "outputs": [],
   "source": [
    "plot(Sigma);"
   ]
  },
  {
   "cell_type": "code",
   "execution_count": null,
   "metadata": {},
   "outputs": [],
   "source": [
    "eofn = 1;\n",
    "\n",
    "subplot(2,1,1)\n",
    "contourf(lon,lat,mask',levels = [0., 0.5],colors =[[.5,.5,.5]])\n",
    "pcolor(lon,lat,-Usst[:,:,eofn]',cmap=\"RdYlBu_r\"),colorbar()\n",
    "ylim(40,46)\n",
    "aspect_ratio=1/cos(pi*mean(lat)/180);\n",
    "gca().set_aspect(aspect_ratio);\n",
    "\n",
    "title(\"EOF mode $eofn\")\n",
    "subplot(2,1,2)\n",
    "plot(mydate,-V[:,eofn]);\n",
    "grid(\"on\")\n",
    "xlabel(\"year day\");\n",
    "@show size(lon)\n",
    "@show size(lat)\n",
    "@show size(Usst); #You can plot as many EOFs as the third dimension of this variable\n",
    "#plotattr(\"size\")"
   ]
  }
 ],
 "metadata": {
  "kernelspec": {
   "display_name": "Julia 1.5.2",
   "language": "julia",
   "name": "julia-1.5"
  },
  "language_info": {
   "file_extension": ".jl",
   "mimetype": "application/julia",
   "name": "julia",
   "version": "1.5.2"
  }
 },
 "nbformat": 4,
 "nbformat_minor": 2
}
